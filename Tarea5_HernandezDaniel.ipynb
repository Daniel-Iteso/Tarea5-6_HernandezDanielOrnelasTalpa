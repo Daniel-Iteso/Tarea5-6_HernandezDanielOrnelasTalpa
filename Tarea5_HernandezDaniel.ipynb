{
 "cells": [
  {
   "cell_type": "markdown",
   "metadata": {},
   "source": [
    "<img style=\"float: left; margin: 30px 15px 15px 15px;\" src=\"https://encrypted-tbn0.gstatic.com/images?q=tbn:ANd9GcTFzQj91sOlkeDFkg5HDbjtR4QJYmLXkfMNig&usqp=CAU\" width=\"400\" height=\"500\" /> \n",
    "    \n",
    "    \n",
    "### <font color='navy'> Simulación matemática. \n",
    "\n",
    "**Nombres:** Daniel Hernandez Vila.\n",
    "\n",
    "**Fecha:** 02 de octubre del 2023.\n",
    "\n",
    "**Expediente** : 728962.\n",
    "    \n",
    "**Profesor:** Oscar David Jaramillo Zuluaga.\n",
    "    \n",
    "**Link Github**: Link con el enlace del repositorio del creador del proyecto\n",
    "\n",
    "# Tarea 5: Clase 10"
   ]
  },
  {
   "cell_type": "markdown",
   "metadata": {},
   "source": [
    "## Enunciado de tarea (Transcibirlo)\n",
    "> 1. Realizar las siguientes integrales. Poner los resultados en una tabla cuyas filas correspondan a la cantidad de términos utilizados en la aproximación (usar 10, 100, 1000, 10000 y 100000 términos) y cuyas columnas correspondan a las funciones.\n",
    "\n",
    "**Entregable: se debe subir un archivo con extensión .ipnyb y nombrarlo con el formato T6PrimerNombrePrimerApellido.ipynb**"
   ]
  },
  {
   "cell_type": "markdown",
   "metadata": {},
   "source": [
    "### Ejercicio 1: \n",
    "\n",
    "$$\\int_{1}^{5} \\log_{10}(2x)+8^x\\text{d}x$$\n",
    "    "
   ]
  },
  {
   "cell_type": "markdown",
   "metadata": {},
   "source": [
    "### Ejercicio 2: \n",
    "\n",
    "$$\\int_1^5 \\frac{2^x}{x^4} \\text{d}x$$"
   ]
  },
  {
   "cell_type": "markdown",
   "metadata": {},
   "source": [
    "Código de solución estudiante 1"
   ]
  },
  {
   "cell_type": "code",
   "execution_count": null,
   "metadata": {},
   "outputs": [],
   "source": []
  },
  {
   "cell_type": "markdown",
   "metadata": {},
   "source": [
    "Código de solución estudiante 2"
   ]
  },
  {
   "cell_type": "code",
   "execution_count": 33,
   "metadata": {},
   "outputs": [
    {
     "data": {
      "text/html": [
       "<div>\n",
       "<style scoped>\n",
       "    .dataframe tbody tr th:only-of-type {\n",
       "        vertical-align: middle;\n",
       "    }\n",
       "\n",
       "    .dataframe tbody tr th {\n",
       "        vertical-align: top;\n",
       "    }\n",
       "\n",
       "    .dataframe thead th {\n",
       "        text-align: right;\n",
       "    }\n",
       "</style>\n",
       "<table border=\"1\" class=\"dataframe\">\n",
       "  <thead>\n",
       "    <tr style=\"text-align: right;\">\n",
       "      <th></th>\n",
       "      <th>Aprox MC1</th>\n",
       "      <th>Aprox MC2</th>\n",
       "    </tr>\n",
       "    <tr>\n",
       "      <th>Cantidad de términos</th>\n",
       "      <th></th>\n",
       "      <th></th>\n",
       "    </tr>\n",
       "  </thead>\n",
       "  <tbody>\n",
       "    <tr>\n",
       "      <th>10</th>\n",
       "      <td>23273.538216</td>\n",
       "      <td>1.614808</td>\n",
       "    </tr>\n",
       "    <tr>\n",
       "      <th>100</th>\n",
       "      <td>13619.972772</td>\n",
       "      <td>1.026792</td>\n",
       "    </tr>\n",
       "    <tr>\n",
       "      <th>1000</th>\n",
       "      <td>16246.592205</td>\n",
       "      <td>1.08026</td>\n",
       "    </tr>\n",
       "    <tr>\n",
       "      <th>10000</th>\n",
       "      <td>16015.857708</td>\n",
       "      <td>0.99506</td>\n",
       "    </tr>\n",
       "    <tr>\n",
       "      <th>100000</th>\n",
       "      <td>15770.545918</td>\n",
       "      <td>1.013538</td>\n",
       "    </tr>\n",
       "  </tbody>\n",
       "</table>\n",
       "</div>"
      ],
      "text/plain": [
       "                         Aprox MC1 Aprox MC2\n",
       "Cantidad de términos                        \n",
       "10                    23273.538216  1.614808\n",
       "100                   13619.972772  1.026792\n",
       "1000                  16246.592205   1.08026\n",
       "10000                 16015.857708   0.99506\n",
       "100000                15770.545918  1.013538"
      ]
     },
     "execution_count": 33,
     "metadata": {},
     "output_type": "execute_result"
    }
   ],
   "source": [
    "# Código de solución estudiante 2\n",
    "import numpy as np\n",
    "import pandas as pd\n",
    "\n",
    "def m1(f, a, b, N):\n",
    "    ui = np.random.uniform(a, b, N)\n",
    "    integral = ((b-a)/N)*np.sum(f(ui))\n",
    "    return integral\n",
    "\n",
    "def in1(x):\n",
    "    return np.log10(2*x)+8**x\n",
    "\n",
    "def in2(x):\n",
    "    return 2**x/x**4\n",
    "\n",
    "a, b = 1, 5\n",
    "\n",
    "Aprox = np.logspace(1, 5, 5).astype(int)\n",
    "\n",
    "tabla = pd.DataFrame(index=N, columns = ['Aprox MC1', 'Aprox MC2'])\n",
    "\n",
    "tabla.index.name = 'Cantidad de términos'\n",
    "\n",
    "for cont in Aprox:\n",
    "    aprox_MC1 = m1(in1, a, b, cont)\n",
    "    aprox_MC2 = m1(in2, a, b, cont)\n",
    "    \n",
    "    tabla.loc[cont, 'Aprox MC1'] = aprox_MC1\n",
    "    tabla.loc[cont, 'Aprox MC2'] = aprox_MC2\n",
    "    \n",
    "tabla"
   ]
  },
  {
   "cell_type": "markdown",
   "metadata": {},
   "source": [
    "### Respuesta planteada en el ejercicio usando (markdown) estudiante 1\n",
    " La respuesta es ........."
   ]
  },
  {
   "cell_type": "markdown",
   "metadata": {},
   "source": [
    "### Respuesta planteada en el ejercicio usando (markdown) estudiante 2\n",
    "\n",
    "Realizando la proximación de Montecarlo en su priemra forma con divisiones entre 10 y 100000 se obtiene que el valor aproximado de la integral es: \n",
    "\n",
    "$$\\int_{1}^{5} \\log_{10}(2x)+8^x\\text{d}x = 15770.1370$$\n",
    "\n",
    "Y para la segunda integral el valor es:\n",
    "\n",
    "$$\\int_1^5 \\frac{2^x}{x^4} \\text{d}x = 1.0069$$\n",
    "\n",
    "Dichos valores se comprobaron con el solver \"WolframAlpha\" obteniendo una buena aproximación:\n",
    "\n",
    "$$\\int_{1}^{5} \\log_{10}(2x)+8^x\\text{d}x \\approx 15757$$\n",
    "\n",
    "$$\\int_{1}^{5} \\log_{10}(2x)+8^x\\text{d}x = 1.0093$$\n",
    "\n",
    "Por lo que se observa una buena aproximación con un error a cuatro decimales de:\n",
    "\n",
    "$$\\frac{15770.1370-15757}{15770.1370}*100 \\approx 0.0830\\%$$\n",
    "\n",
    "Y para el segundo problema\n",
    "\n",
    "$$\\frac{1.0093-1.0069}{1.0069}*100 \\approx 0.2384\\%$$\n",
    "\n",
    "## SE DEBE ACLARAR QUE CADA VEZ QUE SE CORRE EL PROGRAMA AL TENER DISTINTA SEMILLA DEBIDO AL TIEMPO DE LA COMPUTADORA, LOS VALORES OBTENIDOS Y COMPARADOS FUERON DE LA PRIMERA CORRIDA REALIZADA"
   ]
  }
 ],
 "metadata": {
  "kernelspec": {
   "display_name": "Python 3 (ipykernel)",
   "language": "python",
   "name": "python3"
  },
  "language_info": {
   "codemirror_mode": {
    "name": "ipython",
    "version": 3
   },
   "file_extension": ".py",
   "mimetype": "text/x-python",
   "name": "python",
   "nbconvert_exporter": "python",
   "pygments_lexer": "ipython3",
   "version": "3.11.4"
  }
 },
 "nbformat": 4,
 "nbformat_minor": 4
}
